{
 "cells": [
  {
   "cell_type": "code",
   "execution_count": 8,
   "id": "initial_id",
   "metadata": {
    "collapsed": true,
    "ExecuteTime": {
     "end_time": "2023-10-17T12:09:10.246192900Z",
     "start_time": "2023-10-17T12:09:10.228195900Z"
    }
   },
   "outputs": [],
   "source": [
    "import pandas as pd\n",
    "import numpy as np\n",
    "import glob\n",
    "import random\n",
    "import math\n",
    "from datetime import datetime\n",
    "import time\n",
    "import plotly.graph_objects as go\n",
    "import plotly\n",
    "import os\n",
    "import matplotlib.pyplot as plt\n",
    "from utils import assign_period, df_format"
   ]
  },
  {
   "cell_type": "code",
   "execution_count": 13,
   "outputs": [],
   "source": [
    "df = pd.read_csv('A128_1_2.0_5_ME.csv', index_col=0).reset_index(drop=True)\n",
    "info = pd.read_csv('metererror_info.csv', index_col=0).reset_index(drop=True)\n",
    "start_date = info.at[3, 'Start_date']\n",
    "stop_date = info.at[3, 'Stop_date']"
   ],
   "metadata": {
    "collapsed": false,
    "ExecuteTime": {
     "end_time": "2023-10-17T12:12:43.935958700Z",
     "start_time": "2023-10-17T12:12:43.684253300Z"
    }
   },
   "id": "354362767399e0ad"
  },
  {
   "cell_type": "code",
   "execution_count": 14,
   "outputs": [
    {
     "data": {
      "text/plain": "'A128_1_2.0_5_ME.html'"
     },
     "execution_count": 14,
     "metadata": {},
     "output_type": "execute_result"
    }
   ],
   "source": [
    "# idle = 0, transaction = 1, delivery = 2\n",
    "color_map = {\n",
    "    0: 'red',\n",
    "    1: 'blue',\n",
    "    2: 'green'\n",
    "}\n",
    "\n",
    "scatter = []\n",
    "for category, color in color_map.items():\n",
    "    category_df = df[df['period'] == category]\n",
    "    scatter.append(\n",
    "        go.Scatter(\n",
    "            x=category_df['Time'],\n",
    "            # y=category_df['Var_tc_readjusted'],\n",
    "            y=category_df['var/sales'],\n",
    "            mode='markers',\n",
    "            name=category,\n",
    "            marker=dict(\n",
    "                size=10,\n",
    "                color=color,\n",
    "                opacity=0.8,\n",
    "                showscale=False\n",
    "            )\n",
    "        )\n",
    "    )\n",
    "\n",
    "# Define the layout of the plot\n",
    "layout = go.Layout(\n",
    "    title=str(datetime.fromtimestamp(start_date)) + '_' + str(datetime.fromtimestamp(stop_date)),\n",
    "    xaxis=dict(title='Time'),\n",
    "    yaxis=dict(title='var/sales'),\n",
    "    showlegend=True\n",
    ")\n",
    "\n",
    "# Create the figure and show the plot\n",
    "fig = go.Figure(data=scatter, layout=layout)\n",
    "plotly.offline.plot(fig, filename='A128_1_2.0_5_ME.html', auto_open=True)"
   ],
   "metadata": {
    "collapsed": false,
    "ExecuteTime": {
     "end_time": "2023-10-17T12:12:48.145664500Z",
     "start_time": "2023-10-17T12:12:44.859654600Z"
    }
   },
   "id": "f8d6efde39047cb8"
  },
  {
   "cell_type": "code",
   "execution_count": null,
   "outputs": [],
   "source": [],
   "metadata": {
    "collapsed": false
   },
   "id": "5b088f26a0fd755d"
  }
 ],
 "metadata": {
  "kernelspec": {
   "display_name": "Python 3",
   "language": "python",
   "name": "python3"
  },
  "language_info": {
   "codemirror_mode": {
    "name": "ipython",
    "version": 2
   },
   "file_extension": ".py",
   "mimetype": "text/x-python",
   "name": "python",
   "nbconvert_exporter": "python",
   "pygments_lexer": "ipython2",
   "version": "2.7.6"
  }
 },
 "nbformat": 4,
 "nbformat_minor": 5
}
